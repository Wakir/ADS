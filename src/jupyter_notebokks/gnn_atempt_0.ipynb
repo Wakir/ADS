{
 "cells": [
  {
   "cell_type": "code",
   "execution_count": 11,
   "metadata": {
    "collapsed": true,
    "ExecuteTime": {
     "end_time": "2023-06-10T20:09:35.090509975Z",
     "start_time": "2023-06-10T20:09:35.044953798Z"
    }
   },
   "outputs": [],
   "source": [
    "import torch\n",
    "import torch.nn as nn\n",
    "import torch.nn.functional as F\n",
    "import torch_geometric.nn as geom_nn\n",
    "from torch_geometric.data import DataLoader\n",
    "from torch_geometric.datasets import TUDataset"
   ]
  },
  {
   "cell_type": "code",
   "execution_count": 12,
   "outputs": [],
   "source": [
    "dataset = TUDataset(root='../../data/datasets', name='MUTAG')"
   ],
   "metadata": {
    "collapsed": false,
    "ExecuteTime": {
     "end_time": "2023-06-10T20:09:35.100922858Z",
     "start_time": "2023-06-10T20:09:35.090131503Z"
    }
   }
  },
  {
   "cell_type": "code",
   "execution_count": 13,
   "outputs": [],
   "source": [
    "class GNNClassifier(nn.Module):\n",
    "    def __init__(self, num_features, num_classes):\n",
    "        super(GNNClassifier, self).__init__()\n",
    "        self.conv1 = geom_nn.GraphConv(num_features, 16)\n",
    "        self.conv2 = geom_nn.GraphConv(16, 32)\n",
    "        self.fc = nn.Linear(32, num_classes)\n",
    "\n",
    "    def forward(self, x, edge_index, batch):\n",
    "        x = self.conv1(x, edge_index)\n",
    "        x = F.relu(x)\n",
    "        x = self.conv2(x, edge_index)\n",
    "        x = F.relu(x)\n",
    "        x = geom_nn.global_mean_pool(x, batch)\n",
    "        x = self.fc(x)\n",
    "        return F.log_softmax(x, dim=1)\n"
   ],
   "metadata": {
    "collapsed": false,
    "ExecuteTime": {
     "end_time": "2023-06-10T20:09:35.108955173Z",
     "start_time": "2023-06-10T20:09:35.107250448Z"
    }
   }
  },
  {
   "cell_type": "code",
   "execution_count": 14,
   "outputs": [],
   "source": [
    "device = torch.device('cuda' if torch.cuda.is_available() else 'cpu')\n",
    "model = GNNClassifier(dataset.num_features, dataset.num_classes).to(device)\n"
   ],
   "metadata": {
    "collapsed": false,
    "ExecuteTime": {
     "end_time": "2023-06-10T20:09:35.199893644Z",
     "start_time": "2023-06-10T20:09:35.114078314Z"
    }
   }
  },
  {
   "cell_type": "code",
   "execution_count": 15,
   "outputs": [
    {
     "name": "stderr",
     "output_type": "stream",
     "text": [
      "/home/stan/Documents/projects/ADS/venv/lib/python3.10/site-packages/torch_geometric/deprecation.py:22: UserWarning: 'data.DataLoader' is deprecated, use 'loader.DataLoader' instead\n",
      "  warnings.warn(out)\n"
     ]
    }
   ],
   "source": [
    "train_dataset = dataset[:len(dataset) // 2]\n",
    "test_dataset = dataset[len(dataset) // 2:]\n",
    "train_loader = DataLoader(train_dataset, batch_size=64, shuffle=True)\n",
    "test_loader = DataLoader(test_dataset, batch_size=64)"
   ],
   "metadata": {
    "collapsed": false,
    "ExecuteTime": {
     "end_time": "2023-06-10T20:09:35.202147880Z",
     "start_time": "2023-06-10T20:09:35.200240004Z"
    }
   }
  },
  {
   "cell_type": "code",
   "execution_count": 16,
   "outputs": [],
   "source": [
    "optimizer = torch.optim.Adam(model.parameters(), lr=0.01)\n",
    "\n",
    "def train():\n",
    "    model.train()\n",
    "    for data in train_loader:\n",
    "        data = data.to(device)\n",
    "        optimizer.zero_grad()\n",
    "        output = model(data.x, data.edge_index, data.batch)\n",
    "        loss = F.nll_loss(output, data.y)\n",
    "        loss.backward()\n",
    "        optimizer.step()\n",
    "\n",
    "def test():\n",
    "    model.eval()\n",
    "    correct = 0\n",
    "    total = 0\n",
    "    for data in test_loader:\n",
    "        data = data.to(device)\n",
    "        output = model(data.x, data.edge_index, data.batch)\n",
    "        _, predicted = torch.max(output.data, 1)\n",
    "        total += data.y.size(0)\n",
    "        correct += (predicted == data.y).sum().item()\n",
    "    accuracy = 100 * correct / total\n",
    "    return accuracy\n"
   ],
   "metadata": {
    "collapsed": false,
    "ExecuteTime": {
     "end_time": "2023-06-10T20:09:35.267818015Z",
     "start_time": "2023-06-10T20:09:35.243177358Z"
    }
   }
  },
  {
   "cell_type": "code",
   "execution_count": 17,
   "outputs": [
    {
     "name": "stdout",
     "output_type": "stream",
     "text": [
      "Epoch 1, Accuracy: 60.64%\n",
      "Epoch 2, Accuracy: 60.64%\n",
      "Epoch 3, Accuracy: 60.64%\n",
      "Epoch 4, Accuracy: 60.64%\n",
      "Epoch 5, Accuracy: 60.64%\n",
      "Epoch 6, Accuracy: 60.64%\n",
      "Epoch 7, Accuracy: 60.64%\n",
      "Epoch 8, Accuracy: 60.64%\n",
      "Epoch 9, Accuracy: 60.64%\n",
      "Epoch 10, Accuracy: 60.64%\n"
     ]
    }
   ],
   "source": [
    "num_epochs = 10\n",
    "for epoch in range(num_epochs):\n",
    "    train()\n",
    "    accuracy = test()\n",
    "    print(f'Epoch {epoch + 1}, Accuracy: {accuracy:.2f}%')"
   ],
   "metadata": {
    "collapsed": false,
    "ExecuteTime": {
     "end_time": "2023-06-10T20:09:35.605319043Z",
     "start_time": "2023-06-10T20:09:35.243557683Z"
    }
   }
  }
 ],
 "metadata": {
  "kernelspec": {
   "display_name": "Python 3",
   "language": "python",
   "name": "python3"
  },
  "language_info": {
   "codemirror_mode": {
    "name": "ipython",
    "version": 2
   },
   "file_extension": ".py",
   "mimetype": "text/x-python",
   "name": "python",
   "nbconvert_exporter": "python",
   "pygments_lexer": "ipython2",
   "version": "2.7.6"
  }
 },
 "nbformat": 4,
 "nbformat_minor": 0
}
